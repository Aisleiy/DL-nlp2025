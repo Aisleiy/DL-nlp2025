{
  "nbformat": 4,
  "nbformat_minor": 0,
  "metadata": {
    "colab": {
      "provenance": [],
      "authorship_tag": "ABX9TyPQZUgUuZRG4ngCrZEF0iSq",
      "include_colab_link": true
    },
    "kernelspec": {
      "name": "python3",
      "display_name": "Python 3"
    },
    "language_info": {
      "name": "python"
    }
  },
  "cells": [
    {
      "cell_type": "markdown",
      "metadata": {
        "id": "view-in-github",
        "colab_type": "text"
      },
      "source": [
        "<a href=\"https://colab.research.google.com/github/zcqin/DL-nlp2025/blob/main/HMM_for_POSTagging.ipynb\" target=\"_parent\"><img src=\"https://colab.research.google.com/assets/colab-badge.svg\" alt=\"Open In Colab\"/></a>"
      ]
    },
    {
      "cell_type": "markdown",
      "source": [
        "# HMM for POS Tagging\n",
        "\n",
        "Zengchang Qin\n",
        "\n",
        "zengchang.qin@gmail.com\n",
        "\n"
      ],
      "metadata": {
        "id": "Akrao27v0PWS"
      }
    },
    {
      "cell_type": "code",
      "source": [],
      "metadata": {
        "id": "rHBwjwJY0Qt_"
      },
      "execution_count": null,
      "outputs": []
    },
    {
      "cell_type": "markdown",
      "source": [
        "Part-of-Speech (POS) tagging is the process of assigning a part of speech (such as noun, verb, adjective) to each word in a sentence. It is a fundamental task in Natural Language Processing (NLP) that plays a crucial role in syntactic parsing, named entity recognition, and many other language-related applications.\n",
        "\n",
        "A Hidden Markov Model (HMM) is a statistical model commonly used for POS tagging. It represents the problem as a Markov process with hidden states (POS tags) and observed emissions (words in a sentence). HMMs leverage two key probabilistic components:\n",
        "\n",
        "Transition probabilities: The probability of moving from one state (POS tag) to another.\n",
        "\n",
        "Emission probabilities: The probability of a particular state (POS tag) emitting an observation (word).\n",
        "\n",
        "The most common method to find the optimal sequence of POS tags given a sentence is Viterbi Algorithm."
      ],
      "metadata": {
        "id": "6DzODysr0ao-"
      }
    },
    {
      "cell_type": "markdown",
      "source": [
        "set up"
      ],
      "metadata": {
        "id": "0i5zET3L3eSp"
      }
    },
    {
      "cell_type": "code",
      "source": [
        "import numpy as np\n",
        "import nltk\n",
        "from nltk.tag import hmm\n",
        "from nltk.corpus import treebank\n",
        "from collections import defaultdict"
      ],
      "metadata": {
        "id": "VrT3XYf03oQx"
      },
      "execution_count": 1,
      "outputs": []
    },
    {
      "cell_type": "markdown",
      "source": [
        "load the data"
      ],
      "metadata": {
        "id": "t_N6z9Yq3uWL"
      }
    },
    {
      "cell_type": "code",
      "source": [
        "nltk.download('treebank')\n",
        "nltk.download('universal_tagset')\n",
        "\n",
        "# Load POS tagged sentences from Treebank corpus\n",
        "tagged_sentences = treebank.tagged_sents(tagset='universal')\n",
        "\n",
        "# Split into training and testing data\n",
        "train_data = tagged_sentences[:3000]  # Train on 3000 sentences\n",
        "test_data = tagged_sentences[3000:]   # Test on the remaining"
      ],
      "metadata": {
        "colab": {
          "base_uri": "https://localhost:8080/"
        },
        "id": "VQ0cMomf3xZ5",
        "outputId": "fd057331-4822-4b92-ea2a-668b4539d7b6"
      },
      "execution_count": 2,
      "outputs": [
        {
          "output_type": "stream",
          "name": "stderr",
          "text": [
            "[nltk_data] Downloading package treebank to /root/nltk_data...\n",
            "[nltk_data]   Unzipping corpora/treebank.zip.\n",
            "[nltk_data] Downloading package universal_tagset to /root/nltk_data...\n",
            "[nltk_data]   Unzipping taggers/universal_tagset.zip.\n"
          ]
        }
      ]
    },
    {
      "cell_type": "markdown",
      "source": [
        "Train the HMM Model"
      ],
      "metadata": {
        "id": "ChNBI7GZ311z"
      }
    },
    {
      "cell_type": "code",
      "source": [
        "trainer = hmm.HiddenMarkovModelTrainer()\n",
        "hmm_tagger = trainer.train(train_data)"
      ],
      "metadata": {
        "id": "_Z4qhsLK35RH"
      },
      "execution_count": 3,
      "outputs": []
    },
    {
      "cell_type": "markdown",
      "source": [
        "evaluate the model on given data"
      ],
      "metadata": {
        "id": "xvZHtTy03-Lb"
      }
    },
    {
      "cell_type": "code",
      "source": [
        "accuracy = hmm_tagger.evaluate(test_data)\n",
        "print(f\"HMM Tagger Accuracy: {accuracy * 100:.2f}%\")"
      ],
      "metadata": {
        "colab": {
          "base_uri": "https://localhost:8080/"
        },
        "id": "ZDHwTMox4Aik",
        "outputId": "2b902ae9-d6b8-4fb4-99d9-3c8d7a432c0c"
      },
      "execution_count": 4,
      "outputs": [
        {
          "output_type": "stream",
          "name": "stderr",
          "text": [
            "<ipython-input-4-4bbef5b0216b>:1: DeprecationWarning: \n",
            "  Function evaluate() has been deprecated.  Use accuracy(gold)\n",
            "  instead.\n",
            "  accuracy = hmm_tagger.evaluate(test_data)\n",
            "/usr/local/lib/python3.11/dist-packages/nltk/tag/hmm.py:335: RuntimeWarning: overflow encountered in cast\n",
            "  O[i, k] = self._output_logprob(si, self._symbols[k])\n",
            "/usr/local/lib/python3.11/dist-packages/nltk/tag/hmm.py:363: RuntimeWarning: overflow encountered in cast\n",
            "  O[i, k] = self._output_logprob(si, self._symbols[k])\n"
          ]
        },
        {
          "output_type": "stream",
          "name": "stdout",
          "text": [
            "HMM Tagger Accuracy: 51.60%\n"
          ]
        }
      ]
    },
    {
      "cell_type": "markdown",
      "source": [
        "POS Tagging on a Sample Sentence"
      ],
      "metadata": {
        "id": "IJ1lWxWD4NHd"
      }
    },
    {
      "cell_type": "code",
      "source": [
        "sentence = \"The quick brown fox jumps over the lazy dog\".split()\n",
        "predicted_tags = hmm_tagger.tag(sentence)\n",
        "print(predicted_tags)"
      ],
      "metadata": {
        "colab": {
          "base_uri": "https://localhost:8080/"
        },
        "id": "B8ewXhyu4Ry6",
        "outputId": "74924ba8-f821-47c6-e900-8493da440c94"
      },
      "execution_count": 5,
      "outputs": [
        {
          "output_type": "stream",
          "name": "stdout",
          "text": [
            "[('The', 'DET'), ('quick', 'ADJ'), ('brown', 'NOUN'), ('fox', 'NOUN'), ('jumps', 'NOUN'), ('over', 'NOUN'), ('the', 'NOUN'), ('lazy', 'NOUN'), ('dog', 'NOUN')]\n"
          ]
        }
      ]
    }
  ]
}